{
 "cells": [
  {
   "cell_type": "markdown",
   "metadata": {},
   "source": [
    "# XML2TXT"
   ]
  },
  {
   "cell_type": "code",
   "execution_count": null,
   "metadata": {},
   "outputs": [],
   "source": [
    "from utils_files import *\n",
    "\n",
    "xml_path = get_current_path() / \"dataset\" / \"annotated\"\n",
    "txt_path = get_current_path() / \"dataset\" / \"prepare\" / \"labels\"\n",
    "\n",
    "# 获取指定目录全部XML标注\n",
    "xml_lst = get_files_with_extension(str(xml_path), \"xml\")\n",
    "\n",
    "for xml in xml_lst:\n",
    "    # 转换为归一化标注\n",
    "    txt_ann = conv_xml2txt(str(xml))\n",
    "\n",
    "    txt_content = \"\\n\".join(txt_ann)\n",
    "\n",
    "    # 将txt_ann保存到txt文件\n",
    "    with open(\n",
    "        str(txt_path / (xml.name.replace(\"xml\", \"txt\"))), \"w\", encoding=\"utf-8\"\n",
    "    ) as file:\n",
    "        file.write(txt_content)\n",
    "\n",
    "print(\"ok\")"
   ]
  },
  {
   "cell_type": "markdown",
   "metadata": {},
   "source": [
    "# XML2IMG(0,1)"
   ]
  },
  {
   "cell_type": "code",
   "execution_count": null,
   "metadata": {},
   "outputs": [],
   "source": [
    "import numpy as np\n",
    "from PIL import Image\n",
    "\n",
    "from utils_files import *\n",
    "\n",
    "xml_path = get_current_path() / \"dataset\" / \"annotated\"\n",
    "msk_path = get_current_path() / \"dataset\" / \"prepare\" / \"mask\"\n",
    "\n",
    "# 获取指定目录全部XML标注\n",
    "xml_lst = get_files_with_extension(str(xml_path), \"xml\")\n",
    "\n",
    "for xml in xml_lst:\n",
    "    img_info = get_xml_annotated_info(str(xml))\n",
    "\n",
    "    # 创建空白的mask图像\n",
    "    mask_image = np.zeros((img_info[\"width\"], img_info[\"height\"]), dtype=np.uint8)\n",
    "\n",
    "    # 将目标区域填充为1\n",
    "    mask_image[\n",
    "        img_info[\"ymin\"] : img_info[\"ymax\"], img_info[\"xmin\"] : img_info[\"xmax\"]\n",
    "    ] = 1\n",
    "\n",
    "    mask_image_pil = Image.fromarray(mask_image)\n",
    "    mask_image_pil.save(str(msk_path / (xml.name.replace(\"xml\", \"png\"))))\n",
    "\n",
    "print(\"ok\")"
   ]
  }
 ],
 "metadata": {
  "kernelspec": {
   "display_name": "Python 3",
   "language": "python",
   "name": "python3"
  },
  "language_info": {
   "codemirror_mode": {
    "name": "ipython",
    "version": 3
   },
   "file_extension": ".py",
   "mimetype": "text/x-python",
   "name": "python",
   "nbconvert_exporter": "python",
   "pygments_lexer": "ipython3",
   "version": "3.11.4"
  }
 },
 "nbformat": 4,
 "nbformat_minor": 2
}
