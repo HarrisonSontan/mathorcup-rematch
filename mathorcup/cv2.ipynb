{
 "cells": [
  {
   "cell_type": "code",
   "execution_count": 1,
   "metadata": {},
   "outputs": [],
   "source": [
    "import cv2\n",
    "from utils_cv2 import *\n",
    "from utils_files import *"
   ]
  },
  {
   "cell_type": "code",
   "execution_count": 2,
   "metadata": {},
   "outputs": [],
   "source": [
    "raw_datasets = get_current_path() / \"dataset\" / \"annotated\"\n",
    "prepare_datasets = get_current_path() / \"dataset\" / \"ann_p\""
   ]
  },
  {
   "cell_type": "code",
   "execution_count": 3,
   "metadata": {},
   "outputs": [],
   "source": [
    "files_lst = get_file_list(raw_datasets)\n",
    "\n",
    "for file_path in files_lst:\n",
    "    if str(file_path).endswith(\".jpg\"):\n",
    "        img = cv2.imread(str(file_path))\n",
    "\n",
    "        gray = gray_img(img)\n",
    "\n",
    "        # binary = ostu_img(gray)\n",
    "\n",
    "        # print(prepare_datasets / file_path.name)\n",
    "\n",
    "        cv2.imwrite(str(prepare_datasets / file_path.name), gray)"
   ]
  }
 ],
 "metadata": {
  "kernelspec": {
   "display_name": "Python 3",
   "language": "python",
   "name": "python3"
  },
  "language_info": {
   "codemirror_mode": {
    "name": "ipython",
    "version": 3
   },
   "file_extension": ".py",
   "mimetype": "text/x-python",
   "name": "python",
   "nbconvert_exporter": "python",
   "pygments_lexer": "ipython3",
   "version": "3.11.4"
  }
 },
 "nbformat": 4,
 "nbformat_minor": 2
}
